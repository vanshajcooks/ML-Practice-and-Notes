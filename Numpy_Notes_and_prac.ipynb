{
 "cells": [
  {
   "cell_type": "markdown",
   "id": "6e42a62b-7127-43e3-bcf7-7d80b19343ab",
   "metadata": {
    "panel-layout": {
     "height": 50.796875,
     "visible": true,
     "width": 100
    }
   },
   "source": [
    "# Intro to Numpy -  a Python library for mathematical computations\n",
    "- array library\n",
    "- working with mulit-dimensional arrays in python\n",
    "- Numerical python (NumPY)\n",
    "- mostly implemented in C\n",
    "- Numpy Arrays use contiguous blocks of memoery that can be efficinetly cached by CPU\n",
    "   usually we use \"import numpy as np\""
   ]
  },
  {
   "cell_type": "code",
   "execution_count": 4,
   "id": "e8b6d83e-53d2-4549-ad8a-74b1e93b27fa",
   "metadata": {},
   "outputs": [],
   "source": [
    "#Numpy Array Construction and indexing\n",
    "\n",
    "##Array Construction Routines\n",
    "\n",
    "import numpy as np"
   ]
  },
  {
   "cell_type": "code",
   "execution_count": 10,
   "id": "5e67fe5b-d565-4cc6-97e8-81bcc7d7d863",
   "metadata": {},
   "outputs": [
    {
     "data": {
      "text/plain": [
       "array([[1, 1, 1, 1],\n",
       "       [1, 1, 1, 1],\n",
       "       [1, 1, 1, 1]], dtype=int64)"
      ]
     },
     "execution_count": 10,
     "metadata": {},
     "output_type": "execute_result"
    }
   ],
   "source": [
    "np.ones((3,4),dtype = np.int64) # makes an array full of 1's of the shape (3,4) basicallly 3x4 Matrix of ones and datatype is 64- bit integers"
   ]
  },
  {
   "cell_type": "code",
   "execution_count": 12,
   "id": "d405cd43-4266-4220-8256-edad0c8a37ca",
   "metadata": {},
   "outputs": [
    {
     "name": "stdout",
     "output_type": "stream",
     "text": [
      "Help on function ones in module numpy:\n",
      "\n",
      "ones(shape, dtype=None, order='C', *, like=None)\n",
      "    Return a new array of given shape and type, filled with ones.\n",
      "\n",
      "    Parameters\n",
      "    ----------\n",
      "    shape : int or sequence of ints\n",
      "        Shape of the new array, e.g., ``(2, 3)`` or ``2``.\n",
      "    dtype : data-type, optional\n",
      "        The desired data-type for the array, e.g., `numpy.int8`.  Default is\n",
      "        `numpy.float64`.\n",
      "    order : {'C', 'F'}, optional, default: C\n",
      "        Whether to store multi-dimensional data in row-major\n",
      "        (C-style) or column-major (Fortran-style) order in\n",
      "        memory.\n",
      "    like : array_like, optional\n",
      "        Reference object to allow the creation of arrays which are not\n",
      "        NumPy arrays. If an array-like passed in as ``like`` supports\n",
      "        the ``__array_function__`` protocol, the result will be defined\n",
      "        by it. In this case, it ensures the creation of an array object\n",
      "        compatible with that passed in via this argument.\n",
      "\n",
      "        .. versionadded:: 1.20.0\n",
      "\n",
      "    Returns\n",
      "    -------\n",
      "    out : ndarray\n",
      "        Array of ones with the given shape, dtype, and order.\n",
      "\n",
      "    See Also\n",
      "    --------\n",
      "    ones_like : Return an array of ones with shape and type of input.\n",
      "    empty : Return a new uninitialized array.\n",
      "    zeros : Return a new array setting values to zero.\n",
      "    full : Return a new array of given shape filled with value.\n",
      "\n",
      "\n",
      "    Examples\n",
      "    --------\n",
      "    >>> np.ones(5)\n",
      "    array([1., 1., 1., 1., 1.])\n",
      "\n",
      "    >>> np.ones((5,), dtype=int)\n",
      "    array([1, 1, 1, 1, 1])\n",
      "\n",
      "    >>> np.ones((2, 1))\n",
      "    array([[1.],\n",
      "           [1.]])\n",
      "\n",
      "    >>> s = (2,2)\n",
      "    >>> np.ones(s)\n",
      "    array([[1.,  1.],\n",
      "           [1.,  1.]])\n",
      "\n"
     ]
    }
   ],
   "source": [
    "#TO find more info regarding a function use help()\n",
    "help(np.ones)"
   ]
  },
  {
   "cell_type": "code",
   "execution_count": 16,
   "id": "9666160a-cbaf-4819-ab0a-6a4d6613f042",
   "metadata": {},
   "outputs": [
    {
     "data": {
      "text/plain": [
       "\u001b[1;31mSignature:\u001b[0m \u001b[0mnp\u001b[0m\u001b[1;33m.\u001b[0m\u001b[0mones\u001b[0m\u001b[1;33m(\u001b[0m\u001b[0mshape\u001b[0m\u001b[1;33m,\u001b[0m \u001b[0mdtype\u001b[0m\u001b[1;33m=\u001b[0m\u001b[1;32mNone\u001b[0m\u001b[1;33m,\u001b[0m \u001b[0morder\u001b[0m\u001b[1;33m=\u001b[0m\u001b[1;34m'C'\u001b[0m\u001b[1;33m,\u001b[0m \u001b[1;33m*\u001b[0m\u001b[1;33m,\u001b[0m \u001b[0mlike\u001b[0m\u001b[1;33m=\u001b[0m\u001b[1;32mNone\u001b[0m\u001b[1;33m)\u001b[0m\u001b[1;33m\u001b[0m\u001b[1;33m\u001b[0m\u001b[0m\n",
       "\u001b[1;31mDocstring:\u001b[0m\n",
       "Return a new array of given shape and type, filled with ones.\n",
       "\n",
       "Parameters\n",
       "----------\n",
       "shape : int or sequence of ints\n",
       "    Shape of the new array, e.g., ``(2, 3)`` or ``2``.\n",
       "dtype : data-type, optional\n",
       "    The desired data-type for the array, e.g., `numpy.int8`.  Default is\n",
       "    `numpy.float64`.\n",
       "order : {'C', 'F'}, optional, default: C\n",
       "    Whether to store multi-dimensional data in row-major\n",
       "    (C-style) or column-major (Fortran-style) order in\n",
       "    memory.\n",
       "like : array_like, optional\n",
       "    Reference object to allow the creation of arrays which are not\n",
       "    NumPy arrays. If an array-like passed in as ``like`` supports\n",
       "    the ``__array_function__`` protocol, the result will be defined\n",
       "    by it. In this case, it ensures the creation of an array object\n",
       "    compatible with that passed in via this argument.\n",
       "\n",
       "    .. versionadded:: 1.20.0\n",
       "\n",
       "Returns\n",
       "-------\n",
       "out : ndarray\n",
       "    Array of ones with the given shape, dtype, and order.\n",
       "\n",
       "See Also\n",
       "--------\n",
       "ones_like : Return an array of ones with shape and type of input.\n",
       "empty : Return a new uninitialized array.\n",
       "zeros : Return a new array setting values to zero.\n",
       "full : Return a new array of given shape filled with value.\n",
       "\n",
       "\n",
       "Examples\n",
       "--------\n",
       ">>> np.ones(5)\n",
       "array([1., 1., 1., 1., 1.])\n",
       "\n",
       ">>> np.ones((5,), dtype=int)\n",
       "array([1, 1, 1, 1, 1])\n",
       "\n",
       ">>> np.ones((2, 1))\n",
       "array([[1.],\n",
       "       [1.]])\n",
       "\n",
       ">>> s = (2,2)\n",
       ">>> np.ones(s)\n",
       "array([[1.,  1.],\n",
       "       [1.,  1.]])\n",
       "\u001b[1;31mFile:\u001b[0m      c:\\users\\deepa\\anaconda3\\lib\\site-packages\\numpy\\core\\numeric.py\n",
       "\u001b[1;31mType:\u001b[0m      function"
      ]
     },
     "metadata": {},
     "output_type": "display_data"
    }
   ],
   "source": [
    "# or try \"?\" at end of function on Jupyter Notebook\n",
    "np.ones?"
   ]
  },
  {
   "cell_type": "code",
   "execution_count": 23,
   "id": "199b504d-a696-41ab-9d35-425aa62860f2",
   "metadata": {},
   "outputs": [
    {
     "data": {
      "text/plain": [
       "array([[99., 99., 99.],\n",
       "       [99., 99., 99.],\n",
       "       [99., 99., 99.]])"
      ]
     },
     "execution_count": 23,
     "metadata": {},
     "output_type": "execute_result"
    }
   ],
   "source": [
    "np.zeros((3,3)) + 99. # will create a 3x 3 matrix of zeroes and we add 99 to each element "
   ]
  },
  {
   "cell_type": "markdown",
   "id": "a8e9f9bf-4e75-4c65-8dff-d98f8e818bc0",
   "metadata": {},
   "source": [
    "We can use np.ones() or zeros() to create arrays of zeros or ones and it can be USEFUL for placeholder arrays "
   ]
  },
  {
   "cell_type": "markdown",
   "id": "94269327-7a83-4c16-9aae-1dc2de163a67",
   "metadata": {},
   "source": [
    "If we dont want to put zeroes or any value we can also use np.empty() which basically creates an empty array"
   ]
  },
  {
   "cell_type": "code",
   "execution_count": 29,
   "id": "d311a1df-8e42-46ff-8ef7-d0fc48c5314e",
   "metadata": {},
   "outputs": [
    {
     "data": {
      "text/plain": [
       "array([ 1.08650052e-311,  0.00000000e+000, -4.94065646e-324])"
      ]
     },
     "execution_count": 29,
     "metadata": {},
     "output_type": "execute_result"
    }
   ],
   "source": [
    "np.empty((3)) #nonsensical values ig"
   ]
  },
  {
   "cell_type": "code",
   "execution_count": 31,
   "id": "e970cc9b-1785-4681-afa0-e36399fa1c3b",
   "metadata": {},
   "outputs": [
    {
     "data": {
      "text/plain": [
       "array([[1., 0., 0.],\n",
       "       [0., 1., 0.],\n",
       "       [0., 0., 1.]])"
      ]
     },
     "execution_count": 31,
     "metadata": {},
     "output_type": "execute_result"
    }
   ],
   "source": [
    "np.eye(3) # creates IDENTITY MATRIX of desired n "
   ]
  },
  {
   "cell_type": "code",
   "execution_count": 35,
   "id": "3a2bf261-4209-4369-9e0a-b7477d883f01",
   "metadata": {},
   "outputs": [
    {
     "data": {
      "text/plain": [
       "array([[3, 0, 0],\n",
       "       [0, 3, 0],\n",
       "       [0, 0, 3]])"
      ]
     },
     "execution_count": 35,
     "metadata": {},
     "output_type": "execute_result"
    }
   ],
   "source": [
    "np.diag((3,3,3)) # diagonal matrix"
   ]
  },
  {
   "cell_type": "code",
   "execution_count": 39,
   "id": "df8ba386-450c-4d17-923e-72a10893a9de",
   "metadata": {},
   "outputs": [
    {
     "data": {
      "text/plain": [
       "array([4., 5., 6., 7., 8., 9.])"
      ]
     },
     "execution_count": 39,
     "metadata": {},
     "output_type": "execute_result"
    }
   ],
   "source": [
    "#rare but useful ARANGE fucntion\n",
    "\n",
    "np.arange(4.,10.) # wont take the end value 10 but basically it will take a RANGE of numbers that come from 4 to 9 and put it in an array"
   ]
  },
  {
   "cell_type": "code",
   "execution_count": 41,
   "id": "1aec0373-1b07-4ebd-9007-4ad3ae100429",
   "metadata": {},
   "outputs": [
    {
     "data": {
      "text/plain": [
       "array([0, 1, 2, 3, 4, 5])"
      ]
     },
     "execution_count": 41,
     "metadata": {},
     "output_type": "execute_result"
    }
   ],
   "source": [
    "np.arange(6) # if we put single arguement in fucntion it will basically create an array from 0 by default and ending upto one number less than the one given in arguement (here 6)"
   ]
  },
  {
   "cell_type": "code",
   "execution_count": 43,
   "id": "30afd26a-f08e-4f3f-a571-412ac1013fb5",
   "metadata": {},
   "outputs": [
    {
     "data": {
      "text/plain": [
       "array([1., 3., 5., 7., 9.])"
      ]
     },
     "execution_count": 43,
     "metadata": {},
     "output_type": "execute_result"
    }
   ],
   "source": [
    "# similar to python Range fucntion and takes up third arguement too\n",
    "np.arange(1.,11.,2) # here third one is basicallly gap kitna lena hai beech mein"
   ]
  },
  {
   "cell_type": "code",
   "execution_count": 47,
   "id": "26002b69-fa8d-4e25-a02c-edb8643a2add",
   "metadata": {},
   "outputs": [
    {
     "data": {
      "text/plain": [
       "array([0.        , 0.11111111, 0.22222222, 0.33333333, 0.44444444,\n",
       "       0.55555556, 0.66666667, 0.77777778, 0.88888889, 1.        ])"
      ]
     },
     "execution_count": 47,
     "metadata": {},
     "output_type": "execute_result"
    }
   ],
   "source": [
    "#linspace is useful if we want to create a particualr number of evenly spaced values in a specified half-opne interval\n",
    "\n",
    "np.linspace(0.,1., num = 10) # third argument yaha pe btayaga meko 5 num chahiye range mein beech mein)"
   ]
  },
  {
   "cell_type": "markdown",
   "id": "6fb61987-dffb-4f2d-9025-adc5d37beca0",
   "metadata": {},
   "source": [
    "## Array Indexing"
   ]
  },
  {
   "cell_type": "code",
   "execution_count": 52,
   "id": "1a54626f-5e43-4714-9a88-203dd86d0ae3",
   "metadata": {},
   "outputs": [],
   "source": [
    "# similar to Python list indexing actually so not much to worry you just know it most right?"
   ]
  },
  {
   "cell_type": "markdown",
   "id": "e82f93ec-a99b-470b-82f6-8bb566927311",
   "metadata": {},
   "source": [
    "For 2d tho , take 1st dimension thaat is axis 0 as vertical one (ROWS) and take 2nd dimension or axis 1 as horizontal (COLUMNS)"
   ]
  },
  {
   "cell_type": "markdown",
   "id": "c4304dc2-5a4d-4d5f-853a-c4d5bf3860d5",
   "metadata": {},
   "source": [
    "# ARRAY MATH AND UNIVERSAL FUCNTIONS"
   ]
  },
  {
   "cell_type": "markdown",
   "id": "7b28a79f-f290-4409-8746-cdfcb52094b6",
   "metadata": {},
   "source": [
    "WE are gonna introduce vectorisation\n",
    "- no more for loops for arithmetic operations\n",
    "- Numpty gives vectorized wrappers for performing element - wise operations using ufuncs (universal fucntions)\n",
    "- 60 ufuncs in NUMPY avaiable"
   ]
  },
  {
   "cell_type": "code",
   "execution_count": 61,
   "id": "7d2bb6ab-2caa-4d43-9965-c9a99af5654b",
   "metadata": {},
   "outputs": [
    {
     "data": {
      "text/plain": [
       "array([[2, 3, 4],\n",
       "       [3, 4, 5]])"
      ]
     },
     "execution_count": 61,
     "metadata": {},
     "output_type": "execute_result"
    }
   ],
   "source": [
    "# additiion\n",
    "import numpy as np\n",
    "\n",
    "ary = np.array([[1,2,3],[2,3,4]]) # do baar brackets lage yaha pe\n",
    "ary = np.add(ary,1) # binary ufunc\n",
    "# adds 1 to all the elements \n",
    "ary"
   ]
  },
  {
   "cell_type": "code",
   "execution_count": 65,
   "id": "4986b21c-b450-4039-a159-db22037e2e38",
   "metadata": {},
   "outputs": [
    {
     "data": {
      "text/plain": [
       "array([[4, 5, 6],\n",
       "       [5, 6, 7]])"
      ]
     },
     "execution_count": 65,
     "metadata": {},
     "output_type": "execute_result"
    }
   ],
   "source": [
    "ary + 2     \n",
    "# same as np.add()"
   ]
  },
  {
   "cell_type": "markdown",
   "id": "7b10880d-a946-41d5-895b-9f11b0ffaef2",
   "metadata": {},
   "source": [
    "Now yeh sab toh dono axis ke along tha but what if mujhe ek axis ke along karna hai\n",
    "\n",
    "then we use ufunc's *REDUCE* operation (basically use inside a ufunc lets say add.reduce())\n",
    "\n",
    "by default - it uses axis 0"
   ]
  },
  {
   "cell_type": "code",
   "execution_count": 69,
   "id": "aaab76b9-fa1c-456a-974c-8a1aa61f83fb",
   "metadata": {},
   "outputs": [
    {
     "data": {
      "text/plain": [
       "array([5, 7, 9])"
      ]
     },
     "execution_count": 69,
     "metadata": {},
     "output_type": "execute_result"
    }
   ],
   "source": [
    "ary = np.array([[1, 2, 3], \n",
    "                [4, 5, 6]])\n",
    "\n",
    "np.add.reduce(ary) #columns sums - rows ke elements will add"
   ]
  },
  {
   "cell_type": "code",
   "execution_count": 71,
   "id": "fb1ada4b-5bfe-49fc-af7d-db40e0701924",
   "metadata": {},
   "outputs": [
    {
     "data": {
      "text/plain": [
       "array([ 6, 15])"
      ]
     },
     "execution_count": 71,
     "metadata": {},
     "output_type": "execute_result"
    }
   ],
   "source": [
    "np.add.reduce(ary, axis  = 1) #row sums - columns ke elements add honge"
   ]
  },
  {
   "cell_type": "code",
   "execution_count": 75,
   "id": "9f2dc7a3-416a-4cd6-8f26-1c418f60f6b0",
   "metadata": {},
   "outputs": [
    {
     "data": {
      "text/plain": [
       "array([5, 7, 9])"
      ]
     },
     "execution_count": 75,
     "metadata": {},
     "output_type": "execute_result"
    }
   ],
   "source": [
    "ary.sum(axis = 0) # similar"
   ]
  },
  {
   "cell_type": "code",
   "execution_count": 77,
   "id": "c3b5bebd-b6ec-463c-88ce-88f0f66447d1",
   "metadata": {},
   "outputs": [
    {
     "data": {
      "text/plain": [
       "21"
      ]
     },
     "execution_count": 77,
     "metadata": {},
     "output_type": "execute_result"
    }
   ],
   "source": [
    "ary.sum() "
   ]
  },
  {
   "cell_type": "markdown",
   "id": "54fc5123-ba9b-47c8-907c-b07cf818fdc5",
   "metadata": {},
   "source": [
    "Other useful unary ufuncs are:\n",
    "\n",
    "np.mean (computes arithmetic average)\n",
    "\n",
    "np.std (computes the standard deviation)\n",
    "\n",
    "np.var (computes variance)\n",
    "\n",
    "np.sort (sorts an array)\n",
    "\n",
    "np.argsort (returns indices that would sort an array)\n",
    "\n",
    "np.min (returns the minimum value of an array)\n",
    "\n",
    "np.max (returns the maximum value of an array)\n",
    "\n",
    "np.argmin (returns the index of the minimum value)\n",
    "\n",
    "np.argmax (returns the index of the maximum value)\n",
    "\n",
    "np.array_equal (checks if two arrays have the same shape and elements)\n"
   ]
  },
  {
   "cell_type": "markdown",
   "id": "d7110841-6f9a-4474-82a6-929d38f30f86",
   "metadata": {},
   "source": [
    "# Broadcasting\n",
    "\n",
    "like elemtn wise addition of scalar and a multi dim array\n",
    "\n",
    "\n",
    "- jaise agar 3x2 ka matrix hai and ek 3x1 ka matrix hai and we wanna add both of them so 3x1 wale mein doosra column duplicate ho jaayega and now we get two 3x2 matrices to add and we can do so easily "
   ]
  },
  {
   "cell_type": "markdown",
   "id": "88461f2c-2e9d-4542-ba99-fe470eefb06e",
   "metadata": {},
   "source": [
    "# Memory Views and Copies"
   ]
  },
  {
   "cell_type": "markdown",
   "id": "53e681bf-ef02-4ffb-bc68-1653ae226589",
   "metadata": {},
   "source": [
    "- Slicing creates \"views\" of numpy arrays in memory \n",
    "- highly desirable it avoids making copies (unnecessary) of arrays to save memeory resources"
   ]
  },
  {
   "cell_type": "code",
   "execution_count": 14,
   "id": "a6540010-f597-4fa8-9472-13763fb3c168",
   "metadata": {},
   "outputs": [
    {
     "data": {
      "text/plain": [
       "array([1, 2, 3])"
      ]
     },
     "execution_count": 14,
     "metadata": {},
     "output_type": "execute_result"
    }
   ],
   "source": [
    "import numpy as np\n",
    "ary = np.array([[1, 2, 3],\n",
    "                [4, 5, 6]])\n",
    "\n",
    "first_row = ary[0] \n",
    "first_row # creates a view "
   ]
  },
  {
   "cell_type": "code",
   "execution_count": 6,
   "id": "d3466dec-714b-4ab4-8460-4feb905dcfe1",
   "metadata": {},
   "outputs": [],
   "source": [
    "first_row += 99"
   ]
  },
  {
   "cell_type": "code",
   "execution_count": 8,
   "id": "a9394cb6-ad18-473d-ace5-f79cbac32a95",
   "metadata": {},
   "outputs": [
    {
     "data": {
      "text/plain": [
       "array([100, 101, 102])"
      ]
     },
     "execution_count": 8,
     "metadata": {},
     "output_type": "execute_result"
    }
   ],
   "source": [
    "first_row"
   ]
  },
  {
   "cell_type": "code",
   "execution_count": 10,
   "id": "82a0f5d8-e8dd-4d4b-a8fe-e13fb2f33401",
   "metadata": {},
   "outputs": [
    {
     "data": {
      "text/plain": [
       "array([[100, 101, 102],\n",
       "       [  4,   5,   6]])"
      ]
     },
     "execution_count": 10,
     "metadata": {},
     "output_type": "execute_result"
    }
   ],
   "source": [
    "ary"
   ]
  },
  {
   "cell_type": "code",
   "execution_count": 12,
   "id": "2296b7f0-6713-4f3b-b0b5-364974435d67",
   "metadata": {},
   "outputs": [],
   "source": [
    "# so you see working with a view made changes in array it sefl which is not what i wanted wth"
   ]
  },
  {
   "cell_type": "code",
   "execution_count": 16,
   "id": "d74c5868-12a5-4456-9a7b-32cee50b5838",
   "metadata": {},
   "outputs": [],
   "source": [
    "# same with slicing"
   ]
  },
  {
   "cell_type": "code",
   "execution_count": null,
   "id": "812c1870-16dd-4b71-b87f-0d3e022972c1",
   "metadata": {},
   "outputs": [],
   "source": [
    "# create a copy instead"
   ]
  },
  {
   "cell_type": "code",
   "execution_count": 26,
   "id": "3dadc382-d2d5-491f-80ea-17aef30f4aeb",
   "metadata": {},
   "outputs": [
    {
     "data": {
      "text/plain": [
       "array([[1, 2, 3],\n",
       "       [4, 5, 6]])"
      ]
     },
     "execution_count": 26,
     "metadata": {},
     "output_type": "execute_result"
    }
   ],
   "source": [
    "ary = np.array([[1, 2, 3],\n",
    "                [4, 5, 6]])\n",
    "\n",
    "second_row = ary[1].copy()\n",
    "second_row += 99\n",
    "second_row\n",
    "ary"
   ]
  },
  {
   "cell_type": "markdown",
   "id": "eefd4c8b-24f7-4dd1-ba85-44ddcce8033b",
   "metadata": {},
   "source": [
    "# Random Number gen"
   ]
  },
  {
   "cell_type": "code",
   "execution_count": 34,
   "id": "32c093cc-8e81-4985-a894-802e7640059a",
   "metadata": {},
   "outputs": [
    {
     "data": {
      "text/plain": [
       "array([0.07668807, 0.51261944, 0.55430055, 0.02240608, 0.45093082,\n",
       "       0.21412897, 0.44097146, 0.84209171, 0.53316678, 0.32019227])"
      ]
     },
     "execution_count": 34,
     "metadata": {},
     "output_type": "execute_result"
    }
   ],
   "source": [
    "import numpy as np \n",
    "\n",
    "np.random.rand(10) # on every execution of this , random numbers will keep changing sometime we dont want that and want them to be random bu not ever changing so we use Seed"
   ]
  },
  {
   "cell_type": "code",
   "execution_count": 40,
   "id": "3d848997-311c-4ac4-8a68-f275d625a7ec",
   "metadata": {},
   "outputs": [
    {
     "data": {
      "text/plain": [
       "array([0.69646919, 0.28613933, 0.22685145])"
      ]
     },
     "execution_count": 40,
     "metadata": {},
     "output_type": "execute_result"
    }
   ],
   "source": [
    "np.random.seed(123) # setting a random seed at top of notebook now on every execution we will get same output\n",
    "np.random.rand(3)"
   ]
  },
  {
   "cell_type": "code",
   "execution_count": 46,
   "id": "0a6875ab-fd54-423a-9a56-1ea0e1060652",
   "metadata": {},
   "outputs": [
    {
     "data": {
      "text/plain": [
       "array([0.39211752, 0.34317802, 0.72904971])"
      ]
     },
     "execution_count": 46,
     "metadata": {},
     "output_type": "execute_result"
    }
   ],
   "source": [
    "np.random.rand(3)"
   ]
  },
  {
   "cell_type": "code",
   "execution_count": 54,
   "id": "519126a1-f388-44ac-b8ae-de19002ee4be",
   "metadata": {},
   "outputs": [
    {
     "data": {
      "text/plain": [
       "array([0.69646919, 0.28613933, 0.22685145])"
      ]
     },
     "execution_count": 54,
     "metadata": {},
     "output_type": "execute_result"
    }
   ],
   "source": [
    "\n",
    "rng1 = np.random.RandomState(seed=123) # gets me same code as the random seed 123 with previous code\n",
    "rng1.rand(3)"
   ]
  },
  {
   "cell_type": "markdown",
   "id": "a92b0302-69e0-438f-9f31-4c99c70b0b51",
   "metadata": {},
   "source": [
    "# Reshaping NumPy Arrays"
   ]
  },
  {
   "cell_type": "code",
   "execution_count": 57,
   "id": "a38d185d-32bb-4726-bd9b-830a8a2d77dd",
   "metadata": {},
   "outputs": [
    {
     "data": {
      "text/plain": [
       "(28, 28)"
      ]
     },
     "execution_count": 57,
     "metadata": {},
     "output_type": "execute_result"
    }
   ],
   "source": [
    "import numpy as np\n",
    "\n",
    "np.ones((28,28)).shape"
   ]
  },
  {
   "cell_type": "code",
   "execution_count": 59,
   "id": "8a7096b4-9387-4255-b24b-09cefc1985be",
   "metadata": {},
   "outputs": [
    {
     "data": {
      "text/plain": [
       "784"
      ]
     },
     "execution_count": 59,
     "metadata": {},
     "output_type": "execute_result"
    }
   ],
   "source": [
    "28*28"
   ]
  },
  {
   "cell_type": "code",
   "execution_count": 63,
   "id": "f8bbb7e0-73e9-4373-935b-2a7383561c9b",
   "metadata": {},
   "outputs": [
    {
     "data": {
      "text/plain": [
       "(784,)"
      ]
     },
     "execution_count": 63,
     "metadata": {},
     "output_type": "execute_result"
    }
   ],
   "source": [
    "np.ones((28,28)).reshape(784).shape # converts to 784x1 ka array kinda reshape kardiya lol"
   ]
  },
  {
   "cell_type": "code",
   "execution_count": 65,
   "id": "bf85d35e-0b7e-4c10-a0fa-3622dd505f69",
   "metadata": {},
   "outputs": [
    {
     "data": {
      "text/plain": [
       "(784,)"
      ]
     },
     "execution_count": 65,
     "metadata": {},
     "output_type": "execute_result"
    }
   ],
   "source": [
    "np.ones((28,28)).reshape(-1).shape # simpler way"
   ]
  },
  {
   "cell_type": "code",
   "execution_count": 69,
   "id": "741a45e7-090b-470d-8771-daeaee436384",
   "metadata": {},
   "outputs": [
    {
     "data": {
      "text/plain": [
       "array([[1, 2, 3],\n",
       "       [4, 5, 6]])"
      ]
     },
     "execution_count": 69,
     "metadata": {},
     "output_type": "execute_result"
    }
   ],
   "source": [
    "ary1d = np.array([1, 2, 3, 4, 5, 6])\n",
    "ary2d_view = ary1d.reshape(2, 3) # reshaping a 5,1 ka into 2,3 ka basically 1d array ko bhi 2d mei convert kardiya as per my needs\n",
    "ary2d_view"
   ]
  },
  {
   "cell_type": "code",
   "execution_count": 71,
   "id": "1c84d626-0ca2-4cd6-a875-3b378586ad65",
   "metadata": {},
   "outputs": [
    {
     "data": {
      "text/plain": [
       "True"
      ]
     },
     "execution_count": 71,
     "metadata": {},
     "output_type": "execute_result"
    }
   ],
   "source": [
    "np.may_share_memory(ary2d_view, ary1d)\n",
    "# function to check if it shares memory "
   ]
  },
  {
   "cell_type": "code",
   "execution_count": 73,
   "id": "8abd1aa7-d8a8-4a1c-a0fa-4fd34322ecda",
   "metadata": {},
   "outputs": [
    {
     "data": {
      "text/plain": [
       "array([[1, 2, 3],\n",
       "       [4, 5, 6]])"
      ]
     },
     "execution_count": 73,
     "metadata": {},
     "output_type": "execute_result"
    }
   ],
   "source": [
    "ary1d.reshape(2, -1)\n",
    "# - 1 use karte time numpy smart banda hai voh khud set karlega kitne rows and columnns accordingly banane\n"
   ]
  },
  {
   "cell_type": "code",
   "execution_count": 77,
   "id": "9b2c6bed-b82a-40d6-889f-950bb17c8972",
   "metadata": {},
   "outputs": [
    {
     "data": {
      "text/plain": [
       "array([[1, 2],\n",
       "       [3, 4],\n",
       "       [5, 6]])"
      ]
     },
     "execution_count": 77,
     "metadata": {},
     "output_type": "execute_result"
    }
   ],
   "source": [
    "ary1d.reshape(-1, 2)"
   ]
  },
  {
   "cell_type": "code",
   "execution_count": 82,
   "id": "c9564e3e-b553-4146-9833-3ed17fd9fb04",
   "metadata": {},
   "outputs": [
    {
     "data": {
      "text/plain": [
       "array([1, 2, 3, 4, 5, 6])"
      ]
     },
     "execution_count": 82,
     "metadata": {},
     "output_type": "execute_result"
    }
   ],
   "source": [
    "ary = np.array([[[1, 2, 3],\n",
    "                [4, 5, 6]]])\n",
    "\n",
    "ary.reshape(-1)"
   ]
  },
  {
   "cell_type": "markdown",
   "id": "13fef693-fea0-417c-b38c-b14b9f83248c",
   "metadata": {},
   "source": [
    "we can also use flatten()"
   ]
  },
  {
   "cell_type": "markdown",
   "id": "1372bf97-a63b-4290-b1ae-1a93949242b9",
   "metadata": {},
   "source": [
    "For merging two arrays we need to create a new array\n",
    "this is because numpy arrays have a fixed size\n",
    "- it should tho be avoided combining\n",
    "- sometimes necessary tho\n",
    "- we use *CONCATENATE* func"
   ]
  },
  {
   "cell_type": "code",
   "execution_count": 86,
   "id": "9b3b34c7-6a35-4f8e-9706-6e96b6419d38",
   "metadata": {},
   "outputs": [
    {
     "data": {
      "text/plain": [
       "array([1, 2, 3, 1, 2, 3])"
      ]
     },
     "execution_count": 86,
     "metadata": {},
     "output_type": "execute_result"
    }
   ],
   "source": [
    "ary = np.array([1, 2, 3])\n",
    "\n",
    "# stack along the first axis\n",
    "np.concatenate((ary, ary)) "
   ]
  },
  {
   "cell_type": "code",
   "execution_count": 88,
   "id": "051fcd7c-2d46-4448-b642-8744b7f7f2ae",
   "metadata": {},
   "outputs": [
    {
     "data": {
      "text/plain": [
       "(3,)"
      ]
     },
     "execution_count": 88,
     "metadata": {},
     "output_type": "execute_result"
    }
   ],
   "source": [
    "ary.shape"
   ]
  },
  {
   "cell_type": "code",
   "execution_count": 96,
   "id": "1068bb18-60a7-4115-98ca-a14e24768b86",
   "metadata": {},
   "outputs": [
    {
     "data": {
      "text/plain": [
       "(1, 6)"
      ]
     },
     "execution_count": 96,
     "metadata": {},
     "output_type": "execute_result"
    }
   ],
   "source": [
    "ary = np.array([[1, 2, 3]]) # why we do this do double square tho?? ig mostly cuz  it makes it a 2d array \n",
    "\n",
    "# stack along the second axis\n",
    "np.concatenate((ary, ary),axis = 1).shape"
   ]
  },
  {
   "cell_type": "code",
   "execution_count": 98,
   "id": "03cb0855-ac52-4ab2-b95e-a48fe461414a",
   "metadata": {},
   "outputs": [
    {
     "data": {
      "text/plain": [
       "(2, 3)"
      ]
     },
     "execution_count": 98,
     "metadata": {},
     "output_type": "execute_result"
    }
   ],
   "source": [
    "# stack along the first axis\n",
    "np.concatenate((ary, ary),axis = 0) .shape"
   ]
  },
  {
   "cell_type": "markdown",
   "id": "4a86c3a1-2c6c-4fcd-938e-17e9b9c3258a",
   "metadata": {},
   "source": [
    "# Comparison Operators and MASKS"
   ]
  },
  {
   "cell_type": "markdown",
   "id": "e6b1c32f-b4fb-4758-bfac-d71612c08bbf",
   "metadata": {},
   "source": [
    "Let's talk about masks\n",
    "Concept of  boolean masks\n",
    "they are basically arrays of tru and false values  (bool- type arrays)\n",
    "They have same shape as target array \n",
    "just condition daalo ek array ke liye and then voh check karega har ek element ka comparison and then uske according true and false values aayegi uske place mein"
   ]
  },
  {
   "cell_type": "code",
   "execution_count": 110,
   "id": "89a0b675-2c48-4c81-8143-4b136c6d05f9",
   "metadata": {},
   "outputs": [
    {
     "data": {
      "text/plain": [
       "array([False, False,  True,  True,  True])"
      ]
     },
     "execution_count": 110,
     "metadata": {},
     "output_type": "execute_result"
    }
   ],
   "source": [
    "ary = np.array([1,2,3,4,5])\n",
    "mask = ary >2\n",
    "mask"
   ]
  },
  {
   "cell_type": "code",
   "execution_count": 104,
   "id": "218e02b8-72c2-468b-96d9-b3f5325784ab",
   "metadata": {},
   "outputs": [
    {
     "data": {
      "text/plain": [
       "array([3, 4])"
      ]
     },
     "execution_count": 104,
     "metadata": {},
     "output_type": "execute_result"
    }
   ],
   "source": [
    "ary[mask] # this creates an array from our previous one which satsifies the condition"
   ]
  },
  {
   "cell_type": "code",
   "execution_count": 106,
   "id": "e76cdb07-b096-4e9f-95b1-0b52f480153b",
   "metadata": {},
   "outputs": [
    {
     "name": "stdout",
     "output_type": "stream",
     "text": [
      "this is treu\n"
     ]
    }
   ],
   "source": [
    "# we can use masks to count hohw many elemtns in array meet a certain condition\n",
    "cond = True # or 1\n",
    "\n",
    "if cond:\n",
    "    print(\"this is treu\")"
   ]
  },
  {
   "cell_type": "code",
   "execution_count": 112,
   "id": "0c4ef027-1d19-4ed6-88e2-94f1795da291",
   "metadata": {},
   "outputs": [
    {
     "data": {
      "text/plain": [
       "3"
      ]
     },
     "execution_count": 112,
     "metadata": {},
     "output_type": "execute_result"
    }
   ],
   "source": [
    "mask.sum()"
   ]
  },
  {
   "cell_type": "code",
   "execution_count": 116,
   "id": "ea562a20-a545-47c0-bc07-5d99b708edae",
   "metadata": {},
   "outputs": [
    {
     "data": {
      "text/plain": [
       "2"
      ]
     },
     "execution_count": 116,
     "metadata": {},
     "output_type": "execute_result"
    }
   ],
   "source": [
    "np.invert(mask).sum() # invert kardiya basically true ki jagah false values walo ka count milgya"
   ]
  },
  {
   "cell_type": "code",
   "execution_count": 118,
   "id": "1dfd1968-d097-44b4-bb3b-345cd13be882",
   "metadata": {},
   "outputs": [],
   "source": [
    "mask1 = ary > 2\n",
    "mask2 = np.invert(mask1)\n",
    "\n",
    "ary[mask1] = 1\n",
    "ary[mask2] = 0\n",
    "\n",
    "# this makes a binarized array"
   ]
  },
  {
   "cell_type": "code",
   "execution_count": 120,
   "id": "63b99a57-fb08-4009-98aa-2a11ecc1e482",
   "metadata": {},
   "outputs": [
    {
     "data": {
      "text/plain": [
       "array([0, 0, 1, 1, 1])"
      ]
     },
     "execution_count": 120,
     "metadata": {},
     "output_type": "execute_result"
    }
   ],
   "source": [
    "ary "
   ]
  },
  {
   "cell_type": "code",
   "execution_count": 126,
   "id": "01b80d0e-5eb8-46bd-95d6-35b5296d776b",
   "metadata": {},
   "outputs": [
    {
     "data": {
      "text/plain": [
       "array([0, 0, 1, 1, 1])"
      ]
     },
     "execution_count": 126,
     "metadata": {},
     "output_type": "execute_result"
    }
   ],
   "source": [
    "ary = np.array([1, 2, 3, 4,5])\n",
    "\n",
    "np.where(ary > 2, 1, 0) # this takes 3 argument pehle mein condition to be satisfied, then second mein treu value ko kya assign karna and third mein agar satisfy na ho toh kya assign karna"
   ]
  },
  {
   "cell_type": "code",
   "execution_count": 128,
   "id": "a4f06859-3e7c-4c17-8b06-200f02a4d9ad",
   "metadata": {},
   "outputs": [
    {
     "data": {
      "text/plain": [
       "array([0, 0, 1, 1])"
      ]
     },
     "execution_count": 128,
     "metadata": {},
     "output_type": "execute_result"
    }
   ],
   "source": [
    "ary = np.array([1, 2, 3, 4])\n",
    "mask = ary > 2\n",
    "ary[mask] = 1\n",
    "ary[~mask] = 0\n",
    "ary\n",
    "\n",
    "# ~ operator is one of logical opoerators\n",
    "# baaki you can use  & | ^(xor)  ~ (not)"
   ]
  },
  {
   "cell_type": "markdown",
   "id": "0ad84110-3b1e-4af6-ba35-828992f5172c",
   "metadata": {},
   "source": [
    "# LINEAR ALGEBRA WITH NUMPY"
   ]
  },
  {
   "cell_type": "code",
   "execution_count": 1,
   "id": "4cd779de-58f9-4581-ab25-4e10f83c2dec",
   "metadata": {},
   "outputs": [
    {
     "data": {
      "text/plain": [
       "array([1, 2, 3])"
      ]
     },
     "execution_count": 1,
     "metadata": {},
     "output_type": "execute_result"
    }
   ],
   "source": [
    "# final hai NUMPY we gono get this YAYYYY\n",
    "\n",
    "import numpy as np\n",
    "\n",
    "row_vector = np.array([1,2,3])\n",
    "row_vector"
   ]
  },
  {
   "cell_type": "code",
   "execution_count": 9,
   "id": "aaa6dfb1-75f7-4dd9-a048-2d0455d98aa6",
   "metadata": {},
   "outputs": [
    {
     "data": {
      "text/plain": [
       "(1, 3)"
      ]
     },
     "execution_count": 9,
     "metadata": {},
     "output_type": "execute_result"
    }
   ],
   "source": [
    "row_vector = np.array([[1,2,3]])\n",
    "row_vector.shape"
   ]
  },
  {
   "cell_type": "code",
   "execution_count": 3,
   "id": "123e3f17-709f-40c7-8869-5afe5752a499",
   "metadata": {},
   "outputs": [
    {
     "data": {
      "text/plain": [
       "array([[1],\n",
       "       [2],\n",
       "       [3]])"
      ]
     },
     "execution_count": 3,
     "metadata": {},
     "output_type": "execute_result"
    }
   ],
   "source": [
    "column_vector = np.array([[1, 2, 3]]).reshape(-1, 1)\n",
    "column_vector"
   ]
  },
  {
   "cell_type": "code",
   "execution_count": 5,
   "id": "1099153d-9fd0-4e97-bf4b-3012d34b7720",
   "metadata": {},
   "outputs": [
    {
     "data": {
      "text/plain": [
       "array([[1],\n",
       "       [2],\n",
       "       [3]])"
      ]
     },
     "execution_count": 5,
     "metadata": {},
     "output_type": "execute_result"
    }
   ],
   "source": [
    "row_vector.reshape(-1,1)"
   ]
  },
  {
   "cell_type": "code",
   "execution_count": 13,
   "id": "6b7aace0-9bc6-4854-b7b3-52ebbb4fbd8f",
   "metadata": {},
   "outputs": [
    {
     "data": {
      "text/plain": [
       "array([[1, 2, 3]])"
      ]
     },
     "execution_count": 13,
     "metadata": {},
     "output_type": "execute_result"
    }
   ],
   "source": [
    "row_vector"
   ]
  },
  {
   "cell_type": "code",
   "execution_count": 19,
   "id": "0ef799d0-7366-41a0-b944-cabe87b4f12c",
   "metadata": {},
   "outputs": [
    {
     "data": {
      "text/plain": [
       "(1, 1, 1, 1, 3)"
      ]
     },
     "execution_count": 19,
     "metadata": {},
     "output_type": "execute_result"
    }
   ],
   "source": [
    "row_vector[np.newaxis,:,np.newaxis,np.newaxis].shape"
   ]
  },
  {
   "cell_type": "markdown",
   "id": "80a7fb65-015d-4293-a190-654db17154c6",
   "metadata": {},
   "source": [
    "# MATPLOTLIB"
   ]
  },
  {
   "cell_type": "code",
   "execution_count": 22,
   "id": "421772f6-41ae-4b10-b770-10997dca40de",
   "metadata": {},
   "outputs": [],
   "source": [
    "%matplotlib inline\n",
    "import matplotlib.pyplot as plt"
   ]
  },
  {
   "cell_type": "code",
   "execution_count": 24,
   "id": "6a18af86-71dd-4e9d-963b-02b717567839",
   "metadata": {},
   "outputs": [
    {
     "data": {
      "image/png": "[encoded data removed]",
      "text/plain": [
       "<Figure size 640x480 with 1 Axes>"
      ]
     },
     "metadata": {},
     "output_type": "display_data"
    }
   ],
   "source": [
    "x = np.linspace(0, 10, 100)\n",
    "plt.plot(x, np.sin(x))\n",
    "plt.show()"
   ]
  },
  {
   "cell_type": "code",
   "execution_count": 42,
   "id": "95c86b9f-8ae9-4898-a16b-132eee8386f5",
   "metadata": {},
   "outputs": [
    {
     "data": {
      "image/png": "[encoded data removed]",
      "text/plain": [
       "<Figure size 640x480 with 1 Axes>"
      ]
     },
     "metadata": {},
     "output_type": "display_data"
    }
   ],
   "source": [
    "rng = np.random.RandomState(123)\n",
    "x = rng.normal(size = 500)\n",
    "y = rng.normal(size = 500)\n",
    "\n",
    "plt.scatter(x,y)\n",
    "plt.show()"
   ]
  },
  {
   "cell_type": "code",
   "execution_count": null,
   "id": "46ab52e8-f7b2-40f8-8bd1-1ba50e07ae75",
   "metadata": {},
   "outputs": [],
   "source": []
  }
 ],
 "metadata": {
  "kernelspec": {
   "display_name": "Python [conda env:base] *",
   "language": "python",
   "name": "conda-base-py"
  },
  "language_info": {
   "codemirror_mode": {
    "name": "ipython",
    "version": 3
   },
   "file_extension": ".py",
   "mimetype": "text/x-python",
   "name": "python",
   "nbconvert_exporter": "python",
   "pygments_lexer": "ipython3",
   "version": "3.12.7"
  },
  "panel-cell-order": [
   "6e42a62b-7127-43e3-bcf7-7d80b19343ab"
  ]
 },
 "nbformat": 4,
 "nbformat_minor": 5
}
